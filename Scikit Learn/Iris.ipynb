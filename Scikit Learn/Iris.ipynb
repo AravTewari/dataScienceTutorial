{
 "cells": [
  {
   "cell_type": "markdown",
   "id": "f8e658a8-3a49-4e38-9810-05f8fd00cc95",
   "metadata": {},
   "source": [
    "# Train Test Split "
   ]
  },
  {
   "cell_type": "code",
   "execution_count": 10,
   "id": "aa37338d-8ce8-40a7-8190-9a5448018646",
   "metadata": {},
   "outputs": [],
   "source": [
    "from sklearn import datasets, neighbors, metrics, svm, linear_model\n",
    "from sklearn.model_selection import train_test_split\n",
    "from sklearn.preprocessing import LabelEncoder\n",
    "from sklearn.metrics import accuracy_score\n",
    "\n",
    "from matplotlib import pyplot as plt\n",
    "import numpy as np\n",
    "import pandas as pd"
   ]
  },
  {
   "cell_type": "code",
   "execution_count": 2,
   "id": "31ffa34e-1819-4007-b71e-b5ce52d43e3c",
   "metadata": {},
   "outputs": [
    {
     "name": "stdout",
     "output_type": "stream",
     "text": [
      "(150, 4) (150,)\n"
     ]
    }
   ],
   "source": [
    "iris = datasets.load_iris()\n",
    "\n",
    "# Split it into features and labels\n",
    "X = iris.data\n",
    "y = iris.target\n",
    "\n",
    "print(X.shape, y.shape)"
   ]
  },
  {
   "cell_type": "markdown",
   "id": "46268b7e-a484-49ab-bb20-a1f564d4480e",
   "metadata": {},
   "source": [
    "### Standard approach to handling data\n",
    "#### Hours of studying vs. good/bad grades\n",
    "1. 10 different students\n",
    "2. Train with 8 students\n",
    "3. Predict with the remaining 2 students\n",
    "4. Compare the predictions to the actual result\n",
    "5. This is how you determine model accuracy"
   ]
  },
  {
   "cell_type": "code",
   "execution_count": 3,
   "id": "9b7daf49-de42-47b6-800b-6a955a27f9fb",
   "metadata": {},
   "outputs": [
    {
     "name": "stdout",
     "output_type": "stream",
     "text": [
      "(120, 4)\n",
      "(30, 4)\n",
      "(120,)\n",
      "(30,)\n"
     ]
    }
   ],
   "source": [
    "X_train, X_test, y_train, y_test = train_test_split(X, y, test_size=0.2)\n",
    "print(X_train.shape)\n",
    "print(X_test.shape)\n",
    "print(y_train.shape)\n",
    "print(y_test.shape)"
   ]
  },
  {
   "cell_type": "markdown",
   "id": "e63078f4-844c-452d-ba87-06ea2b480e18",
   "metadata": {},
   "source": [
    "# K Nearest Neighbors (KNNs)"
   ]
  },
  {
   "cell_type": "markdown",
   "id": "455c6217-8864-4153-ae61-bce43bcb0ebe",
   "metadata": {},
   "source": [
    "### How does it work?\n",
    "- Used for classification\n",
    "- On a graph, each feature is an axis\n",
    "- You train the model by plotting an object on the class and associating that point on the graph\n",
    "- To predict, plot a new point and look at the K nearest points and their classes\n",
    "- This is how you predict classification"
   ]
  },
  {
   "cell_type": "code",
   "execution_count": 13,
   "id": "c80ce610-bacb-4c9f-8d9a-2daee4daf3ce",
   "metadata": {},
   "outputs": [
    {
     "data": {
      "text/html": [
       "<div>\n",
       "<style scoped>\n",
       "    .dataframe tbody tr th:only-of-type {\n",
       "        vertical-align: middle;\n",
       "    }\n",
       "\n",
       "    .dataframe tbody tr th {\n",
       "        vertical-align: top;\n",
       "    }\n",
       "\n",
       "    .dataframe thead th {\n",
       "        text-align: right;\n",
       "    }\n",
       "</style>\n",
       "<table border=\"1\" class=\"dataframe\">\n",
       "  <thead>\n",
       "    <tr style=\"text-align: right;\">\n",
       "      <th></th>\n",
       "      <th>buying</th>\n",
       "      <th>maint</th>\n",
       "      <th>doors</th>\n",
       "      <th>persons</th>\n",
       "      <th>lug_boot</th>\n",
       "      <th>safety</th>\n",
       "      <th>class</th>\n",
       "    </tr>\n",
       "  </thead>\n",
       "  <tbody>\n",
       "    <tr>\n",
       "      <th>0</th>\n",
       "      <td>vhigh</td>\n",
       "      <td>vhigh</td>\n",
       "      <td>2</td>\n",
       "      <td>2</td>\n",
       "      <td>small</td>\n",
       "      <td>low</td>\n",
       "      <td>unacc</td>\n",
       "    </tr>\n",
       "    <tr>\n",
       "      <th>1</th>\n",
       "      <td>vhigh</td>\n",
       "      <td>vhigh</td>\n",
       "      <td>2</td>\n",
       "      <td>2</td>\n",
       "      <td>small</td>\n",
       "      <td>med</td>\n",
       "      <td>unacc</td>\n",
       "    </tr>\n",
       "    <tr>\n",
       "      <th>2</th>\n",
       "      <td>vhigh</td>\n",
       "      <td>vhigh</td>\n",
       "      <td>2</td>\n",
       "      <td>2</td>\n",
       "      <td>small</td>\n",
       "      <td>high</td>\n",
       "      <td>unacc</td>\n",
       "    </tr>\n",
       "    <tr>\n",
       "      <th>3</th>\n",
       "      <td>vhigh</td>\n",
       "      <td>vhigh</td>\n",
       "      <td>2</td>\n",
       "      <td>2</td>\n",
       "      <td>med</td>\n",
       "      <td>low</td>\n",
       "      <td>unacc</td>\n",
       "    </tr>\n",
       "    <tr>\n",
       "      <th>4</th>\n",
       "      <td>vhigh</td>\n",
       "      <td>vhigh</td>\n",
       "      <td>2</td>\n",
       "      <td>2</td>\n",
       "      <td>med</td>\n",
       "      <td>med</td>\n",
       "      <td>unacc</td>\n",
       "    </tr>\n",
       "  </tbody>\n",
       "</table>\n",
       "</div>"
      ],
      "text/plain": [
       "  buying  maint doors persons lug_boot safety  class\n",
       "0  vhigh  vhigh     2       2    small    low  unacc\n",
       "1  vhigh  vhigh     2       2    small    med  unacc\n",
       "2  vhigh  vhigh     2       2    small   high  unacc\n",
       "3  vhigh  vhigh     2       2      med    low  unacc\n",
       "4  vhigh  vhigh     2       2      med    med  unacc"
      ]
     },
     "execution_count": 13,
     "metadata": {},
     "output_type": "execute_result"
    }
   ],
   "source": [
    "data = pd.read_csv('datasets/car.csv')\n",
    "data.head()"
   ]
  },
  {
   "cell_type": "code",
   "execution_count": 15,
   "id": "21fa28bc-063d-4e40-b13a-b3ae96bdb1a4",
   "metadata": {},
   "outputs": [
    {
     "name": "stdout",
     "output_type": "stream",
     "text": [
      "[['vhigh' 'vhigh' 'low']\n",
      " ['vhigh' 'vhigh' 'med']\n",
      " ['vhigh' 'vhigh' 'high']\n",
      " ...\n",
      " ['low' 'low' 'low']\n",
      " ['low' 'low' 'med']\n",
      " ['low' 'low' 'high']]       class\n",
      "0     unacc\n",
      "1     unacc\n",
      "2     unacc\n",
      "3     unacc\n",
      "4     unacc\n",
      "...     ...\n",
      "1723   good\n",
      "1724  vgood\n",
      "1725  unacc\n",
      "1726   good\n",
      "1727  vgood\n",
      "\n",
      "[1728 rows x 1 columns]\n"
     ]
    }
   ],
   "source": [
    "X = data[[\n",
    "    'buying',\n",
    "    'maint',\n",
    "    'safety'\n",
    "]].values\n",
    "y=data[['class']]\n",
    "\n",
    "print(X, y)"
   ]
  },
  {
   "cell_type": "markdown",
   "id": "386f383e-e08b-4644-b76b-202a74368182",
   "metadata": {},
   "source": [
    "#### Convert data from categories to actual numbers using LabelEncoder"
   ]
  },
  {
   "cell_type": "code",
   "execution_count": 16,
   "id": "3a5d85b2-6a3b-49c3-a4d3-78b5e1759091",
   "metadata": {},
   "outputs": [
    {
     "name": "stdout",
     "output_type": "stream",
     "text": [
      "[[3 3 1]\n",
      " [3 3 2]\n",
      " [3 3 0]\n",
      " ...\n",
      " [1 1 1]\n",
      " [1 1 2]\n",
      " [1 1 0]]\n"
     ]
    }
   ],
   "source": [
    "Le = LabelEncoder()\n",
    "for i in range(len(X[0])):\n",
    "    X[:, i] = Le.fit_transform(X[:, i])\n",
    "\n",
    "print(X)"
   ]
  },
  {
   "cell_type": "markdown",
   "id": "bd118644-e931-4c66-a416-6b34f123189c",
   "metadata": {},
   "source": [
    "#### Convert data using Mapping "
   ]
  },
  {
   "cell_type": "code",
   "execution_count": 17,
   "id": "bb65a4bd-37de-4d36-8e85-50faf8fb9a9c",
   "metadata": {},
   "outputs": [
    {
     "name": "stderr",
     "output_type": "stream",
     "text": [
      "C:\\Users\\arav\\AppData\\Local\\Temp\\ipykernel_10744\\1504002695.py:8: SettingWithCopyWarning: \n",
      "A value is trying to be set on a copy of a slice from a DataFrame.\n",
      "Try using .loc[row_indexer,col_indexer] = value instead\n",
      "\n",
      "See the caveats in the documentation: https://pandas.pydata.org/pandas-docs/stable/user_guide/indexing.html#returning-a-view-versus-a-copy\n",
      "  y['class'] = y['class'].map(label_mapping)\n"
     ]
    },
    {
     "data": {
      "text/plain": [
       "array([[0],\n",
       "       [0],\n",
       "       [0],\n",
       "       ...,\n",
       "       [0],\n",
       "       [2],\n",
       "       [3]], dtype=int64)"
      ]
     },
     "execution_count": 17,
     "metadata": {},
     "output_type": "execute_result"
    }
   ],
   "source": [
    "label_mapping = {\n",
    "    'unacc': 0,\n",
    "    'acc': 1,\n",
    "    'good': 2,\n",
    "    'vgood': 3\n",
    "}\n",
    "\n",
    "y['class'] = y['class'].map(label_mapping)\n",
    "y = np.array(y)\n",
    "y"
   ]
  },
  {
   "cell_type": "markdown",
   "id": "1470f1bd-c41d-4f96-a0a0-5601c3df5345",
   "metadata": {},
   "source": [
    "#### Creating and training a KNN"
   ]
  },
  {
   "cell_type": "code",
   "execution_count": 20,
   "id": "537347c5-032f-4d53-9ca0-73ae699a4b73",
   "metadata": {},
   "outputs": [
    {
     "name": "stdout",
     "output_type": "stream",
     "text": [
      "Predictions: [3 1 0 3 0 0 0 0 1 0 0 0 0 1 1 0 0 0 3 0 0 0 0 1 1 0 0 0 0 1 0 0 0 0 0 1 0\n",
      " 0 3 0 0 0 0 0 1 0 0 0 0 0 0 1 1 1 0 0 0 0 0 1 0 1 1 0 0 1 3 0 0 1 1 0 0 1\n",
      " 0 0 0 2 3 0 0 1 0 0 0 2 0 0 0 0 0 2 0 0 0 0 0 0 0 0 0 0 0 0 0 0 2 1 0 1 0\n",
      " 0 3 0 0 0 0 0 0 0 0 0 0 0 0 0 0 0 0 3 0 0 0 0 0 0 0 1 0 0 3 0 0 1 1 1 0 0\n",
      " 1 1 1 3 0 0 0 0 0 0 3 1 0 0 0 0 0 3 1 0 0 3 0 0 0 0 0 0 0 0 0 0 2 0 0 0 0\n",
      " 0 3 0 0 0 0 0 1 0 0 0 1 0 1 0 1 0 0 0 0 0 0 1 0 0 0 0 0 1 0 0 0 3 1 0 0 0\n",
      " 0 3 0 0 2 1 0 0 0 1 0 0 0 0 0 0 0 0 0 0 0 1 0 0 0 0 0 0 3 0 1 0 1 2 0 1 0\n",
      " 0 0 1 0 0 0 0 0 1 0 0 1 0 0 0 2 0 0 0 0 1 1 2 0 0 0 3 0 0 0 0 0 1 0 0 0 0\n",
      " 0 0 0 0 0 3 3 3 0 0 0 0 1 1 3 0 0 0 0 3 0 0 2 0 0 0 0 0 1 0 0 0 0 0 1 0 0\n",
      " 0 0 1 3 0 0 1 0 0 1 0 3 0]\n",
      "Accuracy: 0.7601156069364162\n"
     ]
    }
   ],
   "source": [
    "# Create the model\n",
    "knn = neighbors.KNeighborsClassifier(n_neighbors=25, weights='uniform')\n",
    "\n",
    "# Split the data\n",
    "X_train, X_test, y_train, y_test = train_test_split(X, y.ravel(), test_size=0.2)\n",
    "\n",
    "# Train the model\n",
    "knn.fit(X_train, y_train)\n",
    "\n",
    "# Compare results\n",
    "predictions = knn.predict(X_test)\n",
    "accuracy = metrics.accuracy_score(y_test, predictions)\n",
    "print(f'Predictions: {predictions}')\n",
    "print(f'Accuracy: {accuracy}')"
   ]
  },
  {
   "cell_type": "code",
   "execution_count": 23,
   "id": "be1491da-6dad-4ba7-ac65-fa7e86fad3b0",
   "metadata": {},
   "outputs": [
    {
     "name": "stdout",
     "output_type": "stream",
     "text": [
      "Actual value: [0]\n",
      "Predicted value: 0\n"
     ]
    }
   ],
   "source": [
    "print('Actual value:', y[20])\n",
    "print('Predicted value:', knn.predict(X)[20])"
   ]
  },
  {
   "cell_type": "markdown",
   "id": "7d259a01-e36b-4d44-a379-246fef13643c",
   "metadata": {},
   "source": [
    "# Support Vector Models (SVMs) "
   ]
  },
  {
   "cell_type": "markdown",
   "id": "2da85b2c-81e2-4974-bd76-b48a3e2fe472",
   "metadata": {},
   "source": [
    "### What are SVMs?\n",
    "- Imagine a 2D plane with a bunch of data points of different classes\n",
    "- SVM creates a hyperplane (for a 2D plane, the hyperplane would be a simple line, for a 3D plane, it would be a 2D line)\n",
    "- This is called a support vector\n",
    "- It calculates the distance from the data points to the support vector\n",
    "- Using a different kernel means different forms of vectors (linear, exponential, sigmoid, polynomial, etc.)\n",
    "\n",
    "\n",
    "### Why SVMs?\n",
    "1. Good for lots of dimensions\n",
    "2. Many kernel functions\n",
    "3. Can be used for classification AND regression"
   ]
  },
  {
   "cell_type": "code",
   "execution_count": 4,
   "id": "7a3d460d-a728-4344-9cda-938ecb03ce79",
   "metadata": {},
   "outputs": [
    {
     "data": {
      "text/plain": [
       "SVC()"
      ]
     },
     "execution_count": 4,
     "metadata": {},
     "output_type": "execute_result"
    }
   ],
   "source": [
    "classes = ['Iris Setosa', 'Iris Versicolour', 'Iris Viriginica']\n",
    "svm_model = svm.SVC()\n",
    "svm_model.fit(X_train, y_train)"
   ]
  },
  {
   "cell_type": "code",
   "execution_count": 8,
   "id": "eb1e9a82-6abe-4977-8a6f-9966a0561f7f",
   "metadata": {},
   "outputs": [
    {
     "name": "stdout",
     "output_type": "stream",
     "text": [
      "Predictions: [1 2 1 1 0 2 1 0 1 2 0 0 2 1 2 2 1 1 1 1 0 0 0 2 0 1 1 0 2 1]\n",
      "Actual:      [1 2 1 1 0 2 1 0 1 2 0 0 2 1 2 2 1 1 1 2 0 0 0 2 0 1 1 0 2 1]\n",
      "Accuracy: 0.9666666666666667\n"
     ]
    }
   ],
   "source": [
    "predictions = svm_model.predict(X_test)\n",
    "acc = accuracy_score(y_test, predictions)\n",
    "\n",
    "print('Predictions:', predictions)\n",
    "print('Actual:     ', y_test)\n",
    "print('Accuracy:', acc)"
   ]
  },
  {
   "cell_type": "code",
   "execution_count": 9,
   "id": "3c21325e-5ff6-40fe-90cc-b27b6189d58b",
   "metadata": {},
   "outputs": [
    {
     "name": "stdout",
     "output_type": "stream",
     "text": [
      "Iris Versicolour\n",
      "Iris Viriginica\n",
      "Iris Versicolour\n",
      "Iris Versicolour\n",
      "Iris Setosa\n",
      "Iris Viriginica\n",
      "Iris Versicolour\n",
      "Iris Setosa\n",
      "Iris Versicolour\n",
      "Iris Viriginica\n",
      "Iris Setosa\n",
      "Iris Setosa\n",
      "Iris Viriginica\n",
      "Iris Versicolour\n",
      "Iris Viriginica\n",
      "Iris Viriginica\n",
      "Iris Versicolour\n",
      "Iris Versicolour\n",
      "Iris Versicolour\n",
      "Iris Versicolour\n",
      "Iris Setosa\n",
      "Iris Setosa\n",
      "Iris Setosa\n",
      "Iris Viriginica\n",
      "Iris Setosa\n",
      "Iris Versicolour\n",
      "Iris Versicolour\n",
      "Iris Setosa\n",
      "Iris Viriginica\n",
      "Iris Versicolour\n"
     ]
    }
   ],
   "source": [
    "for i, prediction in enumerate(predictions):\n",
    "    print(classes[predictions[i]])"
   ]
  },
  {
   "cell_type": "markdown",
   "id": "f8a79839-87d5-4a6f-8ecb-ab63a0676643",
   "metadata": {},
   "source": [
    "# Linear Regression "
   ]
  },
  {
   "cell_type": "code",
   "execution_count": 12,
   "id": "1b26436f-7e26-4c83-9b48-c7d4c4feb405",
   "metadata": {},
   "outputs": [
    {
     "name": "stdout",
     "output_type": "stream",
     "text": [
      "[[6.3200e-03 1.8000e+01 2.3100e+00 ... 1.5300e+01 3.9690e+02 4.9800e+00]\n",
      " [2.7310e-02 0.0000e+00 7.0700e+00 ... 1.7800e+01 3.9690e+02 9.1400e+00]\n",
      " [2.7290e-02 0.0000e+00 7.0700e+00 ... 1.7800e+01 3.9283e+02 4.0300e+00]\n",
      " ...\n",
      " [6.0760e-02 0.0000e+00 1.1930e+01 ... 2.1000e+01 3.9690e+02 5.6400e+00]\n",
      " [1.0959e-01 0.0000e+00 1.1930e+01 ... 2.1000e+01 3.9345e+02 6.4800e+00]\n",
      " [4.7410e-02 0.0000e+00 1.1930e+01 ... 2.1000e+01 3.9690e+02 7.8800e+00]]\n",
      "(506, 13)\n"
     ]
    }
   ],
   "source": [
    "boston = datasets.load_boston()\n",
    "\n",
    "# features/labels\n",
    "X = boston.data\n",
    "y = boston.target\n",
    "\n",
    "print(X)\n",
    "print(X.shape)"
   ]
  },
  {
   "cell_type": "code",
   "execution_count": 13,
   "id": "63bcf71e-876d-4c34-984a-4a76b2f23f23",
   "metadata": {},
   "outputs": [
    {
     "name": "stdout",
     "output_type": "stream",
     "text": [
      "[24.  21.6 34.7 33.4 36.2 28.7 22.9 27.1 16.5 18.9 15.  18.9 21.7 20.4\n",
      " 18.2 19.9 23.1 17.5 20.2 18.2 13.6 19.6 15.2 14.5 15.6 13.9 16.6 14.8\n",
      " 18.4 21.  12.7 14.5 13.2 13.1 13.5 18.9 20.  21.  24.7 30.8 34.9 26.6\n",
      " 25.3 24.7 21.2 19.3 20.  16.6 14.4 19.4 19.7 20.5 25.  23.4 18.9 35.4\n",
      " 24.7 31.6 23.3 19.6 18.7 16.  22.2 25.  33.  23.5 19.4 22.  17.4 20.9\n",
      " 24.2 21.7 22.8 23.4 24.1 21.4 20.  20.8 21.2 20.3 28.  23.9 24.8 22.9\n",
      " 23.9 26.6 22.5 22.2 23.6 28.7 22.6 22.  22.9 25.  20.6 28.4 21.4 38.7\n",
      " 43.8 33.2 27.5 26.5 18.6 19.3 20.1 19.5 19.5 20.4 19.8 19.4 21.7 22.8\n",
      " 18.8 18.7 18.5 18.3 21.2 19.2 20.4 19.3 22.  20.3 20.5 17.3 18.8 21.4\n",
      " 15.7 16.2 18.  14.3 19.2 19.6 23.  18.4 15.6 18.1 17.4 17.1 13.3 17.8\n",
      " 14.  14.4 13.4 15.6 11.8 13.8 15.6 14.6 17.8 15.4 21.5 19.6 15.3 19.4\n",
      " 17.  15.6 13.1 41.3 24.3 23.3 27.  50.  50.  50.  22.7 25.  50.  23.8\n",
      " 23.8 22.3 17.4 19.1 23.1 23.6 22.6 29.4 23.2 24.6 29.9 37.2 39.8 36.2\n",
      " 37.9 32.5 26.4 29.6 50.  32.  29.8 34.9 37.  30.5 36.4 31.1 29.1 50.\n",
      " 33.3 30.3 34.6 34.9 32.9 24.1 42.3 48.5 50.  22.6 24.4 22.5 24.4 20.\n",
      " 21.7 19.3 22.4 28.1 23.7 25.  23.3 28.7 21.5 23.  26.7 21.7 27.5 30.1\n",
      " 44.8 50.  37.6 31.6 46.7 31.5 24.3 31.7 41.7 48.3 29.  24.  25.1 31.5\n",
      " 23.7 23.3 22.  20.1 22.2 23.7 17.6 18.5 24.3 20.5 24.5 26.2 24.4 24.8\n",
      " 29.6 42.8 21.9 20.9 44.  50.  36.  30.1 33.8 43.1 48.8 31.  36.5 22.8\n",
      " 30.7 50.  43.5 20.7 21.1 25.2 24.4 35.2 32.4 32.  33.2 33.1 29.1 35.1\n",
      " 45.4 35.4 46.  50.  32.2 22.  20.1 23.2 22.3 24.8 28.5 37.3 27.9 23.9\n",
      " 21.7 28.6 27.1 20.3 22.5 29.  24.8 22.  26.4 33.1 36.1 28.4 33.4 28.2\n",
      " 22.8 20.3 16.1 22.1 19.4 21.6 23.8 16.2 17.8 19.8 23.1 21.  23.8 23.1\n",
      " 20.4 18.5 25.  24.6 23.  22.2 19.3 22.6 19.8 17.1 19.4 22.2 20.7 21.1\n",
      " 19.5 18.5 20.6 19.  18.7 32.7 16.5 23.9 31.2 17.5 17.2 23.1 24.5 26.6\n",
      " 22.9 24.1 18.6 30.1 18.2 20.6 17.8 21.7 22.7 22.6 25.  19.9 20.8 16.8\n",
      " 21.9 27.5 21.9 23.1 50.  50.  50.  50.  50.  13.8 13.8 15.  13.9 13.3\n",
      " 13.1 10.2 10.4 10.9 11.3 12.3  8.8  7.2 10.5  7.4 10.2 11.5 15.1 23.2\n",
      "  9.7 13.8 12.7 13.1 12.5  8.5  5.   6.3  5.6  7.2 12.1  8.3  8.5  5.\n",
      " 11.9 27.9 17.2 27.5 15.  17.2 17.9 16.3  7.   7.2  7.5 10.4  8.8  8.4\n",
      " 16.7 14.2 20.8 13.4 11.7  8.3 10.2 10.9 11.   9.5 14.5 14.1 16.1 14.3\n",
      " 11.7 13.4  9.6  8.7  8.4 12.8 10.5 17.1 18.4 15.4 10.8 11.8 14.9 12.6\n",
      " 14.1 13.  13.4 15.2 16.1 17.8 14.9 14.1 12.7 13.5 14.9 20.  16.4 17.7\n",
      " 19.5 20.2 21.4 19.9 19.  19.1 19.1 20.1 19.9 19.6 23.2 29.8 13.8 13.3\n",
      " 16.7 12.  14.6 21.4 23.  23.7 25.  21.8 20.6 21.2 19.1 20.6 15.2  7.\n",
      "  8.1 13.6 20.1 21.8 24.5 23.1 19.7 18.3 21.2 17.5 16.8 22.4 20.6 23.9\n",
      " 22.  11.9]\n",
      "(506,)\n"
     ]
    }
   ],
   "source": [
    "print(y)\n",
    "print(y.shape)"
   ]
  },
  {
   "cell_type": "code",
   "execution_count": 20,
   "id": "856706b4-8c01-45d0-9698-360a69504ebe",
   "metadata": {},
   "outputs": [
    {
     "data": {
      "text/plain": [
       "<matplotlib.collections.PathCollection at 0x1e6ea521430>"
      ]
     },
     "execution_count": 20,
     "metadata": {},
     "output_type": "execute_result"
    },
    {
     "data": {
      "image/png": "[encoded data removed]",
      "text/plain": [
       "<Figure size 432x288 with 1 Axes>"
      ]
     },
     "metadata": {
      "needs_background": "light"
     },
     "output_type": "display_data"
    }
   ],
   "source": [
    "# Algorithm\n",
    "l_reg = linear_model.LinearRegression()\n",
    "\n",
    "plt.scatter(X.T[5], y)"
   ]
  },
  {
   "cell_type": "code",
   "execution_count": 21,
   "id": "e6a2ea18-cf85-4530-9a25-0b2c4b16c41a",
   "metadata": {},
   "outputs": [],
   "source": [
    " X_train, X_test, y_train, y_test = train_test_split(X, y, test_size=0.2)"
   ]
  },
  {
   "cell_type": "code",
   "execution_count": 22,
   "id": "23868e80-11c7-4f55-9f44-80c54868b4e1",
   "metadata": {},
   "outputs": [
    {
     "name": "stdout",
     "output_type": "stream",
     "text": [
      "Predictions: [20.61731342 20.46437185  5.62408699 12.37271874 28.49995341 23.12510693\n",
      " 20.07866532 40.47010212 22.84018353 24.55574876 22.67947312 24.26947359\n",
      " 19.9099048  25.84793764 16.73250177 13.40398761 40.75245862 -6.34062576\n",
      " 21.4281036  19.69132202 21.61540349 28.0155051  13.13799037 22.87515072\n",
      " 28.50673354 25.58773555 13.32807936 11.49599601 27.53914539 21.86213008\n",
      " 19.88442878 25.54068072 27.38740992 15.72580495 29.24095677 25.82415832\n",
      " 25.98311032 15.47464698 15.74181045 29.91944882 30.87068238 14.60334047\n",
      " 21.86082999 37.95698236 24.28118636 43.22737669 14.90611687 13.48451893\n",
      " 11.50859957 22.55905454 19.59640429 36.72264288  5.79523747 24.22240108\n",
      " 20.13410429 20.64996782 21.71897172 13.29529482 22.53738979 22.04297812\n",
      " 10.79304793 13.23600731 19.91041236 30.72742316  7.99827059 26.18882038\n",
      " 34.64218945 21.32066779 13.56515506 27.57002278 24.88793823 20.26214009\n",
      " 34.77037991 15.78814552 13.99795599 31.78276922 36.68303483 30.58580159\n",
      " 35.46215686 18.93679714 25.18414593 33.62536558 31.00257103 20.51910278\n",
      " 12.57888058  0.25333535 15.98148176 18.88388767 22.41697283 19.44281361\n",
      " 22.58310872 19.38484091 14.20952643 30.4370821  10.71121183 24.46218432\n",
      " 27.84411719 24.00784976 20.41910377 23.11926722 22.83640489 13.39978019]\n",
      "R^2 values: 0.7377161163513404\n"
     ]
    }
   ],
   "source": [
    "# train\n",
    "model = l_reg.fit(X_train, y_train)\n",
    "predictions = model.predict(X_test)\n",
    "print('Predictions:', predictions)\n",
    "print('R^2 values:', l_reg.score(X, y))"
   ]
  },
  {
   "cell_type": "code",
   "execution_count": 23,
   "id": "5c9c000d-243a-450f-87eb-508ee00afee1",
   "metadata": {},
   "outputs": [
    {
     "name": "stdout",
     "output_type": "stream",
     "text": [
      "Coeff: [-1.28838633e-01  4.79419408e-02  3.62550123e-02  3.18717790e+00\n",
      " -1.72117367e+01  3.52780502e+00  1.19597790e-02 -1.39379388e+00\n",
      "  3.53921280e-01 -1.32778929e-02 -9.62811329e-01  1.07726417e-02\n",
      " -6.06209270e-01]\n",
      "Intercept: 37.262289776913704\n"
     ]
    }
   ],
   "source": [
    "print('Coeff:', l_reg.coef_)\n",
    "print('Intercept:', l_reg.intercept_)"
   ]
  }
 ],
 "metadata": {
  "kernelspec": {
   "display_name": "Python 3 (ipykernel)",
   "language": "python",
   "name": "python3"
  },
  "language_info": {
   "codemirror_mode": {
    "name": "ipython",
    "version": 3
   },
   "file_extension": ".py",
   "mimetype": "text/x-python",
   "name": "python",
   "nbconvert_exporter": "python",
   "pygments_lexer": "ipython3",
   "version": "3.9.12"
  }
 },
 "nbformat": 4,
 "nbformat_minor": 5
}
